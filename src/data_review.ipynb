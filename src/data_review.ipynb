{
  "cells": [
    {
      "cell_type": "code",
      "execution_count": null,
      "metadata": {
        "id": "QOyM2yOb4s3c"
      },
      "outputs": [],
      "source": [
        "from PIL import Image\n",
        "import os\n",
        "import numpy as np \n",
        "import pandas as pd\n",
        "from bs4 import BeautifulSoup\n",
        "import torch\n",
        "import matplotlib.pyplot as plt\n",
        "import matplotlib.patches as patches"
      ]
    },
    {
      "cell_type": "markdown",
      "metadata": {},
      "source": [
        "### Modify to your own paths"
      ]
    },
    {
      "cell_type": "code",
      "execution_count": null,
      "metadata": {
        "id": "NdTZeKsT384w"
      },
      "outputs": [],
      "source": [
        "base_path = \"/your/own/root_directory/\"\n",
        "imgs_path = list(sorted(os.listdir(\"/your/own/images/\")))\n",
        "annot_path = list(sorted(os.listdir(\"/your/own//annotations/\")))"
      ]
    },
    {
      "cell_type": "code",
      "execution_count": null,
      "metadata": {
        "id": "amFDovxZ7mir"
      },
      "outputs": [],
      "source": [
        "def generate_box(obj):\n",
        "    xmin = int(obj.find('xmin').text)\n",
        "    ymin = int(obj.find('ymin').text)\n",
        "    xmax = int(obj.find('xmax').text)\n",
        "    ymax = int(obj.find('ymax').text)\n",
        "    return [xmin, ymin, xmax, ymax]\n",
        "\n",
        "def generate_label(obj):\n",
        "    if obj.find('name').text == \"with_mask\":\n",
        "        return 1\n",
        "    elif obj.find('name').text == \"without_mask\":\n",
        "        return 2\n",
        "    return 3\n",
        "\n",
        "def generate_target(file): \n",
        "    with open(file) as f:\n",
        "        data = f.read()\n",
        "        soup = BeautifulSoup(data, 'xml')\n",
        "        objects = soup.find_all('object')\n",
        "        num_objs = len(objects)\n",
        "        boxes = []\n",
        "        labels = []\n",
        "        for i in objects:\n",
        "            boxes.append(generate_box(i))\n",
        "            labels.append(generate_label(i))\n",
        "        boxes = torch.as_tensor(boxes, dtype=torch.float32)\n",
        "        labels = torch.as_tensor(labels, dtype=torch.int64)\n",
        "        target = {}\n",
        "        target[\"boxes\"] = boxes\n",
        "        target[\"labels\"] = labels\n",
        "        return target"
      ]
    },
    {
      "cell_type": "markdown",
      "metadata": {
        "id": "djxxewUtCmNp"
      },
      "source": [
        "### Plot 30 images with annotations"
      ]
    },
    {
      "cell_type": "code",
      "execution_count": null,
      "metadata": {
        "colab": {
          "base_uri": "https://localhost:8080/",
          "height": 1000
        },
        "id": "cw2BuXDO4s5z",
        "outputId": "d5eed446-4a55-4d63-dad0-42b3685574dd"
      },
      "outputs": [],
      "source": [
        "N = 30\n",
        "for ip,ap in zip(imgs_path[:N], annot_path[:N]):\n",
        "  imp = base_path+\"images/\"+ip\n",
        "  anp = base_path+\"annotations/\"+ap\n",
        "  target = generate_target(anp)\n",
        "  img = Image.open(imp).convert(\"RGB\")\n",
        "  fig,ax = plt.subplots(1)\n",
        "  ax.imshow(img)\n",
        "  for (box,label) in zip(target[\"boxes\"],target[\"labels\"]):\n",
        "        xmin, ymin, xmax, ymax = box\n",
        "        if label==1:\n",
        "            rect = patches.Rectangle((xmin,ymin),(xmax-xmin),(ymax-ymin),linewidth=1,edgecolor='b',facecolor='none')\n",
        "            print(\"with_mask\")\n",
        "        elif label==2:\n",
        "            rect = patches.Rectangle((xmin,ymin),(xmax-xmin),(ymax-ymin),linewidth=1,edgecolor='g',facecolor='none')\n",
        "            print(\"without_mask\")\n",
        "        else:\n",
        "            rect = patches.Rectangle((xmin,ymin),(xmax-xmin),(ymax-ymin),linewidth=1,edgecolor='r',facecolor='none')\n",
        "            print(\"mask_weared_incorrect\")\n",
        "        ax.add_patch(rect)\n",
        "        ax.axis(\"off\")\n",
        "  print(ip)\n",
        "  plt.show()\n"
      ]
    },
    {
      "cell_type": "markdown",
      "metadata": {},
      "source": [
        "### Check data distribution"
      ]
    },
    {
      "cell_type": "code",
      "execution_count": null,
      "metadata": {
        "id": "x2aA-7bn3_wR"
      },
      "outputs": [],
      "source": [
        "result = {}\n",
        "for ip,ap in zip(imgs_path, annot_path):\n",
        "  anp = base_path+\"annotations/\"+ap\n",
        "  target = generate_target(anp)\n",
        "  label = str(list(set(target[\"labels\"].cpu().numpy())))\n",
        "\n",
        "  if label in result:\n",
        "    result[label] +=1\n",
        "  else:\n",
        "    result[label] =1"
      ]
    },
    {
      "cell_type": "code",
      "execution_count": null,
      "metadata": {
        "colab": {
          "base_uri": "https://localhost:8080/"
        },
        "id": "LGkJAc0I3_yp",
        "outputId": "8ad2123e-0d8f-4660-a0c2-5345cf251062"
      },
      "outputs": [
        {
          "data": {
            "text/plain": [
              "{'[1, 2, 3]': 42,\n",
              " '[1, 2]': 180,\n",
              " '[1, 3]': 30,\n",
              " '[1]': 516,\n",
              " '[2, 3]': 4,\n",
              " '[2]': 60,\n",
              " '[3]': 21}"
            ]
          },
          "execution_count": 57,
          "metadata": {
            "tags": []
          },
          "output_type": "execute_result"
        }
      ],
      "source": [
        "print(result)"
      ]
    }
  ],
  "metadata": {
    "colab": {
      "collapsed_sections": [],
      "name": "Checking_Class_Distribution",
      "provenance": []
    },
    "kernelspec": {
      "display_name": "Python 3",
      "name": "python3"
    }
  },
  "nbformat": 4,
  "nbformat_minor": 0
}